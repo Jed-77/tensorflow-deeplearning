{
  "nbformat": 4,
  "nbformat_minor": 0,
  "metadata": {
    "colab": {
      "name": "TF2.0 ANN MNIST.ipynb",
      "provenance": [],
      "authorship_tag": "ABX9TyO9sT1Y8YM/ADwDHfai1Sr7",
      "include_colab_link": true
    },
    "kernelspec": {
      "name": "python3",
      "display_name": "Python 3"
    }
  },
  "cells": [
    {
      "cell_type": "markdown",
      "metadata": {
        "id": "view-in-github",
        "colab_type": "text"
      },
      "source": [
        "<a href=\"https://colab.research.google.com/github/Jed-77/tensorflow-deeplearning/blob/master/TF2_0_ANN_MNIST.ipynb\" target=\"_parent\"><img src=\"https://colab.research.google.com/assets/colab-badge.svg\" alt=\"Open In Colab\"/></a>"
      ]
    },
    {
      "cell_type": "markdown",
      "metadata": {
        "id": "Lach3jSxOzQr",
        "colab_type": "text"
      },
      "source": [
        "**Using Tensorflow to recognise handwritten digits from MNIST database.**"
      ]
    },
    {
      "cell_type": "code",
      "metadata": {
        "id": "7agAo6i1O-Ev",
        "colab_type": "code",
        "outputId": "1f6733e1-e4af-4fd2-de34-70887c5ef8c8",
        "colab": {
          "base_uri": "https://localhost:8080/",
          "height": 35
        }
      },
      "source": [
        "# Install Tensorflow\n",
        "import tensorflow as tf\n",
        "print(tf.__version__)"
      ],
      "execution_count": 0,
      "outputs": [
        {
          "output_type": "stream",
          "text": [
            "2.2.0\n"
          ],
          "name": "stdout"
        }
      ]
    },
    {
      "cell_type": "code",
      "metadata": {
        "id": "mT6HcrPoRJQM",
        "colab_type": "code",
        "colab": {}
      },
      "source": [
        "# Model Hyperparameters\n",
        "# n=number, a=activation\n",
        "IMAGE_SCALE = 255.0\n",
        "N_HIDDEN_1 = 128\n",
        "A_HIDDEN_1 = 'relu'\n",
        "DROPOUT_PROB = 0.2\n",
        "N_TARGET = 10\n",
        "A_TARGET = 'softmax'\n",
        "OPTIMIZING_FUNCTION = 'adam'\n",
        "LOSS_FUNCTION = 'sparse_categorical_crossentropy'\n",
        "NUM_EPOCHS=10"
      ],
      "execution_count": 0,
      "outputs": []
    },
    {
      "cell_type": "code",
      "metadata": {
        "id": "1y1Cedy9QTah",
        "colab_type": "code",
        "outputId": "1d19844b-2828-4480-83a7-52cd77c42b28",
        "colab": {
          "base_uri": "https://localhost:8080/",
          "height": 87
        }
      },
      "source": [
        "# Load in the data. \n",
        "# Note it is broken out into training and testing already. \n",
        "# Also we will normalise the values from 0->255 to 0->1\n",
        "mnist = tf.keras.datasets.mnist\n",
        "(x_train, y_train), (x_test, y_test) = mnist.load_data()\n",
        "x_train, x_test = x_train/IMAGE_SCALE, x_test/IMAGE_SCALE\n",
        "print(\"x_train shape: \", x_train.shape)\n",
        "n_train, image_size_x, image_size_y = x_train.shape\n",
        "print(\"y_train shape: \", y_train.shape)"
      ],
      "execution_count": 0,
      "outputs": [
        {
          "output_type": "stream",
          "text": [
            "Downloading data from https://storage.googleapis.com/tensorflow/tf-keras-datasets/mnist.npz\n",
            "11493376/11490434 [==============================] - 0s 0us/step\n",
            "x_train shape:  (60000, 28, 28)\n",
            "y_train shape:  (60000,)\n"
          ],
          "name": "stdout"
        }
      ]
    },
    {
      "cell_type": "code",
      "metadata": {
        "id": "QodB8HgYRWiS",
        "colab_type": "code",
        "colab": {}
      },
      "source": [
        "# Build the model\n",
        "# 1) first layer is to the flatten the input shape into a vector\n",
        "# 2) next we add a dense layer\n",
        "# 3) then dropout random nodes to prevent overfitting and over-weighting one neuron\n",
        "# 4) output should be a probability so softmax and range from 0 -> 9 (so 1-10)\n",
        "model = tf.keras.models.Sequential([\n",
        "  tf.keras.layers.Flatten(input_shape=(image_size_x, image_size_y)),\n",
        "  tf.keras.layers.Dense(N_HIDDEN_1, activation=A_HIDDEN_1),\n",
        "  tf.keras.layers.Dropout(DROPOUT_PROB),\n",
        "  tf.keras.layers.Dense(N_TARGET, activation=A_TARGET)\n",
        "])"
      ],
      "execution_count": 0,
      "outputs": []
    },
    {
      "cell_type": "code",
      "metadata": {
        "id": "brvDVJvOUVCm",
        "colab_type": "code",
        "colab": {}
      },
      "source": [
        "# Compile the model (prepare for training)\n",
        "model.compile(optimizer=OPTIMIZING_FUNCTION,\n",
        "              loss=LOSS_FUNCTION,\n",
        "              metrics=['accuracy'])"
      ],
      "execution_count": 0,
      "outputs": []
    },
    {
      "cell_type": "code",
      "metadata": {
        "id": "MSBrY7-7Uyvd",
        "colab_type": "code",
        "outputId": "c3f1f721-70ec-4ec0-f73d-595fce746006",
        "colab": {
          "base_uri": "https://localhost:8080/",
          "height": 364
        }
      },
      "source": [
        "# Train the model\n",
        "r = model.fit(x_train, y_train, validation_data=(x_test, y_test), epochs=NUM_EPOCHS)"
      ],
      "execution_count": 0,
      "outputs": [
        {
          "output_type": "stream",
          "text": [
            "Epoch 1/10\n",
            "1875/1875 [==============================] - 5s 3ms/step - loss: 0.2949 - accuracy: 0.9146 - val_loss: 0.1403 - val_accuracy: 0.9597\n",
            "Epoch 2/10\n",
            "1875/1875 [==============================] - 4s 2ms/step - loss: 0.1421 - accuracy: 0.9582 - val_loss: 0.0989 - val_accuracy: 0.9712\n",
            "Epoch 3/10\n",
            "1875/1875 [==============================] - 5s 3ms/step - loss: 0.1056 - accuracy: 0.9679 - val_loss: 0.0883 - val_accuracy: 0.9735\n",
            "Epoch 4/10\n",
            "1875/1875 [==============================] - 4s 2ms/step - loss: 0.0878 - accuracy: 0.9726 - val_loss: 0.0795 - val_accuracy: 0.9765\n",
            "Epoch 5/10\n",
            "1875/1875 [==============================] - 5s 2ms/step - loss: 0.0741 - accuracy: 0.9774 - val_loss: 0.0731 - val_accuracy: 0.9784\n",
            "Epoch 6/10\n",
            "1875/1875 [==============================] - 5s 2ms/step - loss: 0.0652 - accuracy: 0.9793 - val_loss: 0.0688 - val_accuracy: 0.9789\n",
            "Epoch 7/10\n",
            "1875/1875 [==============================] - 5s 2ms/step - loss: 0.0582 - accuracy: 0.9816 - val_loss: 0.0729 - val_accuracy: 0.9785\n",
            "Epoch 8/10\n",
            "1875/1875 [==============================] - 5s 2ms/step - loss: 0.0510 - accuracy: 0.9836 - val_loss: 0.0689 - val_accuracy: 0.9803\n",
            "Epoch 9/10\n",
            "1875/1875 [==============================] - 5s 3ms/step - loss: 0.0480 - accuracy: 0.9845 - val_loss: 0.0719 - val_accuracy: 0.9806\n",
            "Epoch 10/10\n",
            "1875/1875 [==============================] - 5s 3ms/step - loss: 0.0442 - accuracy: 0.9853 - val_loss: 0.0715 - val_accuracy: 0.9790\n"
          ],
          "name": "stdout"
        }
      ]
    },
    {
      "cell_type": "code",
      "metadata": {
        "id": "rV80fWd1YJVr",
        "colab_type": "code",
        "colab": {}
      },
      "source": [
        "# Plot the loss per iteration\n",
        "import matplotlib.pyplot as plt\n",
        "from matplotlib import style\n",
        "style.use('dark_background')\n",
        "plt.plot(r.history['loss'], label='loss')\n",
        "plt.plot(r.history['val_loss'], label='val_loss')\n",
        "plt.legend()"
      ],
      "execution_count": 0,
      "outputs": []
    },
    {
      "cell_type": "code",
      "metadata": {
        "id": "WGnxCaz8YfNi",
        "colab_type": "code",
        "outputId": "cb69fb20-86d6-4465-e8b5-1aa1244c8ab0",
        "colab": {
          "base_uri": "https://localhost:8080/",
          "height": 283
        }
      },
      "source": [
        "# Plot the accuracy per iteration\n",
        "import matplotlib.pyplot as plt\n",
        "plt.plot(r.history['accuracy'], label='accuracy')\n",
        "plt.plot(r.history['val_accuracy'], label='val_accuracy')\n",
        "plt.legend()"
      ],
      "execution_count": 0,
      "outputs": [
        {
          "output_type": "execute_result",
          "data": {
            "text/plain": [
              "<matplotlib.legend.Legend at 0x7f5775ed5b38>"
            ]
          },
          "metadata": {
            "tags": []
          },
          "execution_count": 10
        },
        {
          "output_type": "display_data",
          "data": {
            "image/png": "[encoded data removed]",
            "text/plain": [
              "<Figure size 432x288 with 1 Axes>"
            ]
          },
          "metadata": {
            "tags": [],
            "needs_background": "light"
          }
        }
      ]
    },
    {
      "cell_type": "code",
      "metadata": {
        "id": "h1tW1QsCZeHh",
        "colab_type": "code",
        "outputId": "a3c6ed64-abcd-4817-8af4-36246ffe10cf",
        "colab": {
          "base_uri": "https://localhost:8080/",
          "height": 51
        }
      },
      "source": [
        "# Evaluate the model\n",
        "print(model.evaluate(x_test, y_test))"
      ],
      "execution_count": 0,
      "outputs": [
        {
          "output_type": "stream",
          "text": [
            "313/313 [==============================] - 0s 1ms/step - loss: 0.0739 - accuracy: 0.9801\n",
            "[0.07394124567508698, 0.9800999760627747]\n"
          ],
          "name": "stdout"
        }
      ]
    },
    {
      "cell_type": "code",
      "metadata": {
        "id": "Daj72Xd44eNM",
        "colab_type": "code",
        "outputId": "19fb5cfa-a64e-4728-9454-0fc2957784f9",
        "colab": {
          "base_uri": "https://localhost:8080/",
          "height": 502
        }
      },
      "source": [
        "# Plot a confusion matrix\n",
        "from sklearn.metrics import confusion_matrix\n",
        "import numpy as np\n",
        "import itertools\n",
        "\n",
        "def plot_confusion_matrix(cm, classes,\n",
        "                          normalise=False,\n",
        "                          title='Confusion Matrix',\n",
        "                          cmap=plt.cm.Blues):\n",
        "  \"\"\"\n",
        "  This function prints and plots the confusion matrix.\n",
        "  \"\"\"\n",
        "  if normalise:\n",
        "    cm = cm.astype('float') / cm.sum(axis=1)[:, np.newaxis]\n",
        "    print(\"Normalised Confusion Matrix.\")\n",
        "  else:\n",
        "    print(\"Non-normalised Confusion Matrix\")\n",
        "  print(cm)\n",
        "\n",
        "  plt.imshow(cm, interpolation='nearest', cmap=cmap)\n",
        "  plt.title(title)\n",
        "  plt.colorbar()\n",
        "  tick_marks = np.arange(len(classes))\n",
        "  plt.xticks(tick_marks, classes, rotation=45)\n",
        "  plt.yticks(tick_marks, classes)\n",
        "\n",
        "  fmt='.2f' if normalise else 'd'\n",
        "  thresh = cm.max()/2.\n",
        "  for i, j in itertools.product(range(cm.shape[0]), range(cm.shape[1])):\n",
        "    plt.text(j, i, format(cm[i, j], fmt),\n",
        "             horizontalalignment=\"center\",\n",
        "             color=\"white\" if cm[i, j] > thresh else \"black\"\n",
        "             )\n",
        "  plt.tight_layout()\n",
        "  plt.ylabel('True Label')\n",
        "  plt.xlabel('Predicted Label')\n",
        "  plt.show()\n",
        "\n",
        "\n",
        "# run this\n",
        "p_test = model.predict(x_test).argmax(axis=1)\n",
        "cm = confusion_matrix(y_test, p_test)\n",
        "plot_confusion_matrix(cm, list(range(10)))"
      ],
      "execution_count": 0,
      "outputs": [
        {
          "output_type": "stream",
          "text": [
            "Non-normalised Confusion Matrix\n",
            "[[ 970    1    1    1    0    0    3    1    3    0]\n",
            " [   0 1125    3    2    0    0    2    0    3    0]\n",
            " [   0    0 1016    2    2    0    2    3    6    1]\n",
            " [   0    0    3 1000    0    1    0    2    4    0]\n",
            " [   0    1    6    0  963    0    3    2    2    5]\n",
            " [   2    0    0   11    2  860    5    2    9    1]\n",
            " [   4    2    2    1    4    2  940    0    3    0]\n",
            " [   2    5   10    4    1    0    0  997    5    4]\n",
            " [   4    0    2    5    3    1    1    3  952    3]\n",
            " [   2    6    0    8   14    3    0    5    4  967]]\n"
          ],
          "name": "stdout"
        },
        {
          "output_type": "display_data",
          "data": {
            "image/png": "[encoded data removed]",
            "text/plain": [
              "<Figure size 432x288 with 2 Axes>"
            ]
          },
          "metadata": {
            "tags": [],
            "needs_background": "light"
          }
        }
      ]
    },
    {
      "cell_type": "code",
      "metadata": {
        "id": "-29tzLH08Wjo",
        "colab_type": "code",
        "outputId": "4930fdf5-a34a-485b-ff59-420b1700b731",
        "colab": {
          "base_uri": "https://localhost:8080/",
          "height": 299
        }
      },
      "source": [
        "# Show some of the misclassified examples\n",
        "import numpy as np\n",
        "misclassified_idx = np.where(p_test != y_test)[0]\n",
        "i = np.random.choice(misclassified_idx)\n",
        "plt.imshow(x_test[i], cmap='gray')\n",
        "plt.title(\"True: {}, Predicted: {}\".format(y_test[i], p_test[i]))"
      ],
      "execution_count": 0,
      "outputs": [
        {
          "output_type": "execute_result",
          "data": {
            "text/plain": [
              "Text(0.5, 1.0, 'True: 6, Predicted: 0')"
            ]
          },
          "metadata": {
            "tags": []
          },
          "execution_count": 21
        },
        {
          "output_type": "display_data",
          "data": {
            "image/png": "[encoded data removed]",
            "text/plain": [
              "<Figure size 432x288 with 1 Axes>"
            ]
          },
          "metadata": {
            "tags": [],
            "needs_background": "light"
          }
        }
      ]
    }
  ]
}