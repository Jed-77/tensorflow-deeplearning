{
  "nbformat": 4,
  "nbformat_minor": 0,
  "metadata": {
    "colab": {
      "name": "TF2.0 Stock Return Prediction Pt-1.ipynb",
      "provenance": [],
      "authorship_tag": "ABX9TyPP97lx4g7+9iX79+4lgmz0",
      "include_colab_link": true
    },
    "kernelspec": {
      "name": "python3",
      "display_name": "Python 3"
    }
  },
  "cells": [
    {
      "cell_type": "markdown",
      "metadata": {
        "id": "view-in-github",
        "colab_type": "text"
      },
      "source": [
        "<a href=\"https://colab.research.google.com/github/Jed-77/tensorflow-deeplearning/blob/master/TF2_0_Stock_Return_Prediction_Pt_1.ipynb\" target=\"_parent\"><img src=\"https://colab.research.google.com/assets/colab-badge.svg\" alt=\"Open In Colab\"/></a>"
      ]
    },
    {
      "cell_type": "code",
      "metadata": {
        "id": "u5-N2_GC6jhw",
        "colab_type": "code",
        "colab": {}
      },
      "source": [
        "# Imports\n",
        "import tensorflow as tf\n",
        "from tensorflow.keras.layers import Input, SimpleRNN, GRU, LSTM, Flatten, Dense, GlobalMaxPool1D\n",
        "from tensorflow.keras.models import Model\n",
        "from tensorflow.keras.optimizers import SGD, Adam\n",
        "from sklearn.preprocessing import StandardScaler\n",
        "import numpy as np\n",
        "import pandas as pd\n",
        "import matplotlib.pyplot as plt"
      ],
      "execution_count": 0,
      "outputs": []
    },
    {
      "cell_type": "code",
      "metadata": {
        "id": "Ki2b7EYh6qgo",
        "colab_type": "code",
        "colab": {}
      },
      "source": [
        "# Get the stock data\n",
        "df = pd.read_csv('https://raw.githubusercontent.com/lazyprogrammer/machine_learning_examples/master/tf2.0/sbux.csv')\n",
        "df['return'] = (df['close']-df['close'].shift(1))/df['close']\n",
        "df['return'].hist()"
      ],
      "execution_count": 0,
      "outputs": []
    },
    {
      "cell_type": "code",
      "metadata": {
        "id": "6MAF_7267doj",
        "colab_type": "code",
        "colab": {}
      },
      "source": [
        "# Build our Datset for training\n",
        "\n",
        "# Get the training data and scale it\n",
        "series = df['return'].values[1:].reshape(-1, 1)\n",
        "scaler = StandardScaler()\n",
        "scaler.fit(series[:len(series)//2])\n",
        "series = scaler.transform(series).flatten()\n",
        "\n",
        "# Let's see if we can use T past values to predict the next value\n",
        "# So create every possible window of length T, with a target of T+1\n",
        "T = 10\n",
        "D = 1\n",
        "X = []\n",
        "Y = []\n",
        "for t in range(len(series)-T):\n",
        "  x = series[t:t+T]\n",
        "  X.append(x)\n",
        "  y = series[t+T]\n",
        "  Y.append(y)\n",
        "\n",
        "X = np.array(X).reshape(-1, T, 1)\n",
        "Y = np.array(Y)\n",
        "N = len(X)\n"
      ],
      "execution_count": 0,
      "outputs": []
    },
    {
      "cell_type": "code",
      "metadata": {
        "id": "WrTwGxTx8pN7",
        "colab_type": "code",
        "outputId": "a3a51da6-ad08-400f-82a6-d5000ccd000a",
        "colab": {
          "base_uri": "https://localhost:8080/",
          "height": 1000
        }
      },
      "source": [
        "# Build A Model\n",
        "i = Input(shape=(T,1))\n",
        "x = LSTM(5)(i)\n",
        "x = Dense(1)(x)\n",
        "model = Model(i, x)\n",
        "model.compile(\n",
        "    loss='mse',\n",
        "    optimizer=Adam(lr=0.01)\n",
        ")\n",
        "\n",
        "# Train the model\n",
        "r = model.fit(\n",
        "    X[:N//2], Y[:N//2],\n",
        "    epochs=80,\n",
        "    validation_data=(X[N//2:], Y[N//2:])\n",
        ")"
      ],
      "execution_count": 0,
      "outputs": [
        {
          "output_type": "stream",
          "text": [
            "Epoch 1/80\n",
            "20/20 [==============================] - 1s 30ms/step - loss: 0.9934 - val_loss: 1.1930\n",
            "Epoch 2/80\n",
            "20/20 [==============================] - 0s 9ms/step - loss: 0.9852 - val_loss: 1.1898\n",
            "Epoch 3/80\n",
            "20/20 [==============================] - 0s 8ms/step - loss: 0.9842 - val_loss: 1.1943\n",
            "Epoch 4/80\n",
            "20/20 [==============================] - 0s 9ms/step - loss: 0.9830 - val_loss: 1.2075\n",
            "Epoch 5/80\n",
            "20/20 [==============================] - 0s 9ms/step - loss: 0.9842 - val_loss: 1.1942\n",
            "Epoch 6/80\n",
            "20/20 [==============================] - 0s 8ms/step - loss: 0.9836 - val_loss: 1.2050\n",
            "Epoch 7/80\n",
            "20/20 [==============================] - 0s 9ms/step - loss: 0.9815 - val_loss: 1.2025\n",
            "Epoch 8/80\n",
            "20/20 [==============================] - 0s 9ms/step - loss: 0.9826 - val_loss: 1.2032\n",
            "Epoch 9/80\n",
            "20/20 [==============================] - 0s 9ms/step - loss: 0.9776 - val_loss: 1.1967\n",
            "Epoch 10/80\n",
            "20/20 [==============================] - 0s 9ms/step - loss: 0.9784 - val_loss: 1.2004\n",
            "Epoch 11/80\n",
            "20/20 [==============================] - 0s 8ms/step - loss: 0.9709 - val_loss: 1.2148\n",
            "Epoch 12/80\n",
            "20/20 [==============================] - 0s 9ms/step - loss: 0.9651 - val_loss: 1.2379\n",
            "Epoch 13/80\n",
            "20/20 [==============================] - 0s 9ms/step - loss: 0.9617 - val_loss: 1.2292\n",
            "Epoch 14/80\n",
            "20/20 [==============================] - 0s 8ms/step - loss: 0.9557 - val_loss: 1.2530\n",
            "Epoch 15/80\n",
            "20/20 [==============================] - 0s 8ms/step - loss: 0.9462 - val_loss: 1.2706\n",
            "Epoch 16/80\n",
            "20/20 [==============================] - 0s 9ms/step - loss: 0.9506 - val_loss: 1.2903\n",
            "Epoch 17/80\n",
            "20/20 [==============================] - 0s 9ms/step - loss: 0.9461 - val_loss: 1.2749\n",
            "Epoch 18/80\n",
            "20/20 [==============================] - 0s 9ms/step - loss: 0.9491 - val_loss: 1.2783\n",
            "Epoch 19/80\n",
            "20/20 [==============================] - 0s 9ms/step - loss: 0.9367 - val_loss: 1.2985\n",
            "Epoch 20/80\n",
            "20/20 [==============================] - 0s 8ms/step - loss: 0.9359 - val_loss: 1.3267\n",
            "Epoch 21/80\n",
            "20/20 [==============================] - 0s 8ms/step - loss: 0.9413 - val_loss: 1.3186\n",
            "Epoch 22/80\n",
            "20/20 [==============================] - 0s 9ms/step - loss: 0.9373 - val_loss: 1.2940\n",
            "Epoch 23/80\n",
            "20/20 [==============================] - 0s 8ms/step - loss: 0.9277 - val_loss: 1.3240\n",
            "Epoch 24/80\n",
            "20/20 [==============================] - 0s 8ms/step - loss: 0.9352 - val_loss: 1.3086\n",
            "Epoch 25/80\n",
            "20/20 [==============================] - 0s 8ms/step - loss: 0.9237 - val_loss: 1.3133\n",
            "Epoch 26/80\n",
            "20/20 [==============================] - 0s 8ms/step - loss: 0.9304 - val_loss: 1.3319\n",
            "Epoch 27/80\n",
            "20/20 [==============================] - 0s 9ms/step - loss: 0.9294 - val_loss: 1.3312\n",
            "Epoch 28/80\n",
            "20/20 [==============================] - 0s 8ms/step - loss: 0.9208 - val_loss: 1.3402\n",
            "Epoch 29/80\n",
            "20/20 [==============================] - 0s 8ms/step - loss: 0.9155 - val_loss: 1.3463\n",
            "Epoch 30/80\n",
            "20/20 [==============================] - 0s 9ms/step - loss: 0.9117 - val_loss: 1.3545\n",
            "Epoch 31/80\n",
            "20/20 [==============================] - 0s 8ms/step - loss: 0.9130 - val_loss: 1.3475\n",
            "Epoch 32/80\n",
            "20/20 [==============================] - 0s 8ms/step - loss: 0.9072 - val_loss: 1.3390\n",
            "Epoch 33/80\n",
            "20/20 [==============================] - 0s 9ms/step - loss: 0.9073 - val_loss: 1.3409\n",
            "Epoch 34/80\n",
            "20/20 [==============================] - 0s 9ms/step - loss: 0.9042 - val_loss: 1.3570\n",
            "Epoch 35/80\n",
            "20/20 [==============================] - 0s 8ms/step - loss: 0.9112 - val_loss: 1.3443\n",
            "Epoch 36/80\n",
            "20/20 [==============================] - 0s 9ms/step - loss: 0.9087 - val_loss: 1.3351\n",
            "Epoch 37/80\n",
            "20/20 [==============================] - 0s 8ms/step - loss: 0.8966 - val_loss: 1.3720\n",
            "Epoch 38/80\n",
            "20/20 [==============================] - 0s 8ms/step - loss: 0.8959 - val_loss: 1.3640\n",
            "Epoch 39/80\n",
            "20/20 [==============================] - 0s 9ms/step - loss: 0.8921 - val_loss: 1.3491\n",
            "Epoch 40/80\n",
            "20/20 [==============================] - 0s 8ms/step - loss: 0.8885 - val_loss: 1.3715\n",
            "Epoch 41/80\n",
            "20/20 [==============================] - 0s 8ms/step - loss: 0.8878 - val_loss: 1.3407\n",
            "Epoch 42/80\n",
            "20/20 [==============================] - 0s 9ms/step - loss: 0.8952 - val_loss: 1.3683\n",
            "Epoch 43/80\n",
            "20/20 [==============================] - 0s 8ms/step - loss: 0.8870 - val_loss: 1.3545\n",
            "Epoch 44/80\n",
            "20/20 [==============================] - 0s 8ms/step - loss: 0.8799 - val_loss: 1.3392\n",
            "Epoch 45/80\n",
            "20/20 [==============================] - 0s 8ms/step - loss: 0.8821 - val_loss: 1.4020\n",
            "Epoch 46/80\n",
            "20/20 [==============================] - 0s 15ms/step - loss: 0.9375 - val_loss: 1.3212\n",
            "Epoch 47/80\n",
            "20/20 [==============================] - 0s 8ms/step - loss: 0.9082 - val_loss: 1.3244\n",
            "Epoch 48/80\n",
            "20/20 [==============================] - 0s 8ms/step - loss: 0.8869 - val_loss: 1.3478\n",
            "Epoch 49/80\n",
            "20/20 [==============================] - 0s 9ms/step - loss: 0.8694 - val_loss: 1.3388\n",
            "Epoch 50/80\n",
            "20/20 [==============================] - 0s 8ms/step - loss: 0.8662 - val_loss: 1.3681\n",
            "Epoch 51/80\n",
            "20/20 [==============================] - 0s 9ms/step - loss: 0.8692 - val_loss: 1.3769\n",
            "Epoch 52/80\n",
            "20/20 [==============================] - 0s 8ms/step - loss: 0.8610 - val_loss: 1.3743\n",
            "Epoch 53/80\n",
            "20/20 [==============================] - 0s 9ms/step - loss: 0.8641 - val_loss: 1.3665\n",
            "Epoch 54/80\n",
            "20/20 [==============================] - 0s 8ms/step - loss: 0.8619 - val_loss: 1.3924\n",
            "Epoch 55/80\n",
            "20/20 [==============================] - 0s 9ms/step - loss: 0.8593 - val_loss: 1.3813\n",
            "Epoch 56/80\n",
            "20/20 [==============================] - 0s 9ms/step - loss: 0.8525 - val_loss: 1.3992\n",
            "Epoch 57/80\n",
            "20/20 [==============================] - 0s 8ms/step - loss: 0.8480 - val_loss: 1.3954\n",
            "Epoch 58/80\n",
            "20/20 [==============================] - 0s 9ms/step - loss: 0.8440 - val_loss: 1.4122\n",
            "Epoch 59/80\n",
            "20/20 [==============================] - 0s 8ms/step - loss: 0.8572 - val_loss: 1.4018\n",
            "Epoch 60/80\n",
            "20/20 [==============================] - 0s 8ms/step - loss: 0.8473 - val_loss: 1.4091\n",
            "Epoch 61/80\n",
            "20/20 [==============================] - 0s 9ms/step - loss: 0.8433 - val_loss: 1.4012\n",
            "Epoch 62/80\n",
            "20/20 [==============================] - 0s 9ms/step - loss: 0.8438 - val_loss: 1.4155\n",
            "Epoch 63/80\n",
            "20/20 [==============================] - 0s 8ms/step - loss: 0.8309 - val_loss: 1.4053\n",
            "Epoch 64/80\n",
            "20/20 [==============================] - 0s 9ms/step - loss: 0.8350 - val_loss: 1.4163\n",
            "Epoch 65/80\n",
            "20/20 [==============================] - 0s 9ms/step - loss: 0.8292 - val_loss: 1.4517\n",
            "Epoch 66/80\n",
            "20/20 [==============================] - 0s 9ms/step - loss: 0.8297 - val_loss: 1.4155\n",
            "Epoch 67/80\n",
            "20/20 [==============================] - 0s 9ms/step - loss: 0.8219 - val_loss: 1.4275\n",
            "Epoch 68/80\n",
            "20/20 [==============================] - 0s 9ms/step - loss: 0.8150 - val_loss: 1.4588\n",
            "Epoch 69/80\n",
            "20/20 [==============================] - 0s 8ms/step - loss: 0.8252 - val_loss: 1.4070\n",
            "Epoch 70/80\n",
            "20/20 [==============================] - 0s 8ms/step - loss: 0.8096 - val_loss: 1.4419\n",
            "Epoch 71/80\n",
            "20/20 [==============================] - 0s 9ms/step - loss: 0.8028 - val_loss: 1.4439\n",
            "Epoch 72/80\n",
            "20/20 [==============================] - 0s 9ms/step - loss: 0.8000 - val_loss: 1.4604\n",
            "Epoch 73/80\n",
            "20/20 [==============================] - 0s 9ms/step - loss: 0.7985 - val_loss: 1.4525\n",
            "Epoch 74/80\n",
            "20/20 [==============================] - 0s 8ms/step - loss: 0.7979 - val_loss: 1.4343\n",
            "Epoch 75/80\n",
            "20/20 [==============================] - 0s 9ms/step - loss: 0.8134 - val_loss: 1.4260\n",
            "Epoch 76/80\n",
            "20/20 [==============================] - 0s 9ms/step - loss: 0.7925 - val_loss: 1.4518\n",
            "Epoch 77/80\n",
            "20/20 [==============================] - 0s 9ms/step - loss: 0.7975 - val_loss: 1.4274\n",
            "Epoch 78/80\n",
            "20/20 [==============================] - 0s 9ms/step - loss: 0.7891 - val_loss: 1.4423\n",
            "Epoch 79/80\n",
            "20/20 [==============================] - 0s 8ms/step - loss: 0.7893 - val_loss: 1.4511\n",
            "Epoch 80/80\n",
            "20/20 [==============================] - 0s 8ms/step - loss: 0.7773 - val_loss: 1.4269\n"
          ],
          "name": "stdout"
        }
      ]
    },
    {
      "cell_type": "code",
      "metadata": {
        "id": "1u_wmvxR9oTD",
        "colab_type": "code",
        "outputId": "ba9bfc03-ea5d-4828-96a5-de6e39bbedc1",
        "colab": {
          "base_uri": "https://localhost:8080/",
          "height": 282
        }
      },
      "source": [
        "# Plot the loss per iteration\n",
        "import matplotlib.pyplot as plt\n",
        "from matplotlib import style\n",
        "style.use('dark_background')\n",
        "plt.plot(r.history['loss'], label='loss')\n",
        "plt.plot(r.history['val_loss'], label='val_loss')\n",
        "plt.legend()"
      ],
      "execution_count": 0,
      "outputs": [
        {
          "output_type": "execute_result",
          "data": {
            "text/plain": [
              "<matplotlib.legend.Legend at 0x7f6843ce0828>"
            ]
          },
          "metadata": {
            "tags": []
          },
          "execution_count": 13
        },
        {
          "output_type": "display_data",
          "data": {
            "image/png": "[encoded data removed]",
            "text/plain": [
              "<Figure size 432x288 with 1 Axes>"
            ]
          },
          "metadata": {
            "tags": []
          }
        }
      ]
    },
    {
      "cell_type": "code",
      "metadata": {
        "id": "0Sspy2-o9swT",
        "colab_type": "code",
        "outputId": "2089762c-741a-438f-8884-5bc3016545f4",
        "colab": {
          "base_uri": "https://localhost:8080/",
          "height": 231
        }
      },
      "source": [
        ""
      ],
      "execution_count": 0,
      "outputs": [
        {
          "output_type": "error",
          "ename": "KeyError",
          "evalue": "ignored",
          "traceback": [
            "\u001b[0;31m---------------------------------------------------------------------------\u001b[0m",
            "\u001b[0;31mKeyError\u001b[0m                                  Traceback (most recent call last)",
            "\u001b[0;32m<ipython-input-14-439c10ea9cea>\u001b[0m in \u001b[0;36m<module>\u001b[0;34m()\u001b[0m\n\u001b[1;32m      1\u001b[0m \u001b[0;31m# Plot the accuracy per iteration\u001b[0m\u001b[0;34m\u001b[0m\u001b[0;34m\u001b[0m\u001b[0;34m\u001b[0m\u001b[0m\n\u001b[1;32m      2\u001b[0m \u001b[0;32mimport\u001b[0m \u001b[0mmatplotlib\u001b[0m\u001b[0;34m.\u001b[0m\u001b[0mpyplot\u001b[0m \u001b[0;32mas\u001b[0m \u001b[0mplt\u001b[0m\u001b[0;34m\u001b[0m\u001b[0;34m\u001b[0m\u001b[0m\n\u001b[0;32m----> 3\u001b[0;31m \u001b[0mplt\u001b[0m\u001b[0;34m.\u001b[0m\u001b[0mplot\u001b[0m\u001b[0;34m(\u001b[0m\u001b[0mr\u001b[0m\u001b[0;34m.\u001b[0m\u001b[0mhistory\u001b[0m\u001b[0;34m[\u001b[0m\u001b[0;34m'accuracy'\u001b[0m\u001b[0;34m]\u001b[0m\u001b[0;34m,\u001b[0m \u001b[0mlabel\u001b[0m\u001b[0;34m=\u001b[0m\u001b[0;34m'accuracy'\u001b[0m\u001b[0;34m)\u001b[0m\u001b[0;34m\u001b[0m\u001b[0;34m\u001b[0m\u001b[0m\n\u001b[0m\u001b[1;32m      4\u001b[0m \u001b[0mplt\u001b[0m\u001b[0;34m.\u001b[0m\u001b[0mplot\u001b[0m\u001b[0;34m(\u001b[0m\u001b[0mr\u001b[0m\u001b[0;34m.\u001b[0m\u001b[0mhistory\u001b[0m\u001b[0;34m[\u001b[0m\u001b[0;34m'val_accuracy'\u001b[0m\u001b[0;34m]\u001b[0m\u001b[0;34m,\u001b[0m \u001b[0mlabel\u001b[0m\u001b[0;34m=\u001b[0m\u001b[0;34m'val_accuracy'\u001b[0m\u001b[0;34m)\u001b[0m\u001b[0;34m\u001b[0m\u001b[0;34m\u001b[0m\u001b[0m\n\u001b[1;32m      5\u001b[0m \u001b[0mplt\u001b[0m\u001b[0;34m.\u001b[0m\u001b[0mlegend\u001b[0m\u001b[0;34m(\u001b[0m\u001b[0;34m)\u001b[0m\u001b[0;34m\u001b[0m\u001b[0;34m\u001b[0m\u001b[0m\n",
            "\u001b[0;31mKeyError\u001b[0m: 'accuracy'"
          ]
        }
      ]
    }
  ]
}