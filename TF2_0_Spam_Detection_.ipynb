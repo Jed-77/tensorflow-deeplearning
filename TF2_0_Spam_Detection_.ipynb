{
  "nbformat": 4,
  "nbformat_minor": 0,
  "metadata": {
    "colab": {
      "name": "TF2.0 Spam Detection .ipynb",
      "provenance": [],
      "authorship_tag": "ABX9TyNsNc1DCyqdUKktJkb/Sajm",
      "include_colab_link": true
    },
    "kernelspec": {
      "name": "python3",
      "display_name": "Python 3"
    }
  },
  "cells": [
    {
      "cell_type": "markdown",
      "metadata": {
        "id": "view-in-github",
        "colab_type": "text"
      },
      "source": [
        "<a href=\"https://colab.research.google.com/github/Jed-77/tensorflow-deeplearning/blob/master/TF2_0_Spam_Detection_.ipynb\" target=\"_parent\"><img src=\"https://colab.research.google.com/assets/colab-badge.svg\" alt=\"Open In Colab\"/></a>"
      ]
    },
    {
      "cell_type": "code",
      "metadata": {
        "id": "xP2OVzDbfIfJ",
        "colab_type": "code",
        "colab": {}
      },
      "source": [
        "# Imports\n",
        "import tensorflow as tf\n",
        "from tensorflow.keras.layers import Input, SimpleRNN, GRU, LSTM, Flatten, Dense, GlobalMaxPooling1D, Embedding\n",
        "from tensorflow.keras.models import Model\n",
        "from tensorflow.keras.optimizers import SGD, Adam\n",
        "from tensorflow.keras.preprocessing.text import Tokenizer\n",
        "from tensorflow.keras.preprocessing.sequence import pad_sequences\n",
        "from sklearn.model_selection import train_test_split\n",
        "import numpy as np\n",
        "import pandas as pd\n",
        "import matplotlib.pyplot as plt"
      ],
      "execution_count": 0,
      "outputs": []
    },
    {
      "cell_type": "code",
      "metadata": {
        "id": "X1Lxpz4IfdSY",
        "colab_type": "code",
        "outputId": "5b047bfb-5fd7-4bd1-8ec4-7d70a536df51",
        "colab": {
          "base_uri": "https://localhost:8080/",
          "height": 204
        }
      },
      "source": [
        "# Get the data\n",
        "#!wget https://lazyprogrammer.me/course_files/spam.csv\n",
        "df = pd.read_csv('spam.csv', encoding='ISO-8859-1')\n",
        "df = df.drop([\"Unnamed: 2\", \"Unnamed: 3\", \"Unnamed: 4\"], axis=1)\n",
        "df.columns = ['labels', 'data']\n",
        "df.head()"
      ],
      "execution_count": 0,
      "outputs": [
        {
          "output_type": "execute_result",
          "data": {
            "text/html": [
              "<div>\n",
              "<style scoped>\n",
              "    .dataframe tbody tr th:only-of-type {\n",
              "        vertical-align: middle;\n",
              "    }\n",
              "\n",
              "    .dataframe tbody tr th {\n",
              "        vertical-align: top;\n",
              "    }\n",
              "\n",
              "    .dataframe thead th {\n",
              "        text-align: right;\n",
              "    }\n",
              "</style>\n",
              "<table border=\"1\" class=\"dataframe\">\n",
              "  <thead>\n",
              "    <tr style=\"text-align: right;\">\n",
              "      <th></th>\n",
              "      <th>labels</th>\n",
              "      <th>data</th>\n",
              "    </tr>\n",
              "  </thead>\n",
              "  <tbody>\n",
              "    <tr>\n",
              "      <th>0</th>\n",
              "      <td>ham</td>\n",
              "      <td>Go until jurong point, crazy.. Available only ...</td>\n",
              "    </tr>\n",
              "    <tr>\n",
              "      <th>1</th>\n",
              "      <td>ham</td>\n",
              "      <td>Ok lar... Joking wif u oni...</td>\n",
              "    </tr>\n",
              "    <tr>\n",
              "      <th>2</th>\n",
              "      <td>spam</td>\n",
              "      <td>Free entry in 2 a wkly comp to win FA Cup fina...</td>\n",
              "    </tr>\n",
              "    <tr>\n",
              "      <th>3</th>\n",
              "      <td>ham</td>\n",
              "      <td>U dun say so early hor... U c already then say...</td>\n",
              "    </tr>\n",
              "    <tr>\n",
              "      <th>4</th>\n",
              "      <td>ham</td>\n",
              "      <td>Nah I don't think he goes to usf, he lives aro...</td>\n",
              "    </tr>\n",
              "  </tbody>\n",
              "</table>\n",
              "</div>"
            ],
            "text/plain": [
              "  labels                                               data\n",
              "0    ham  Go until jurong point, crazy.. Available only ...\n",
              "1    ham                      Ok lar... Joking wif u oni...\n",
              "2   spam  Free entry in 2 a wkly comp to win FA Cup fina...\n",
              "3    ham  U dun say so early hor... U c already then say...\n",
              "4    ham  Nah I don't think he goes to usf, he lives aro..."
            ]
          },
          "metadata": {
            "tags": []
          },
          "execution_count": 5
        }
      ]
    },
    {
      "cell_type": "code",
      "metadata": {
        "id": "a7XeLOdVfdUI",
        "colab_type": "code",
        "colab": {}
      },
      "source": [
        "# Sort the data out\n",
        "df['b_labels'] = df['labels'].map({'ham': 0, 'spam': 1})\n",
        "Y = df['b_labels'].values\n",
        "df_train, df_test, Ytrain, Ytest = train_test_split(df['data'], Y, test_size=0.33)"
      ],
      "execution_count": 0,
      "outputs": []
    },
    {
      "cell_type": "code",
      "metadata": {
        "id": "3OIVUaSPg5Hf",
        "colab_type": "code",
        "colab": {}
      },
      "source": [
        "# Convert sentences to sequences of integers\n",
        "MAX_VOCAB_SIZE = 20000\n",
        "tokenizer = Tokenizer(num_words=MAX_VOCAB_SIZE)   # creates an integer per word\n",
        "tokenizer.fit_on_texts(df_train)  # make sure to tokenize on the training data\n",
        "sequences_train = tokenizer.texts_to_sequences(df_train)\n",
        "sequences_test = tokenizer.texts_to_sequences(df_test)\n",
        "\n",
        "# Word -> Integer Mapping\n",
        "word2idx = tokenizer.word_index\n",
        "V = len(word2idx)\n",
        "\n",
        "# Pad sequences so all the same length\n",
        "data_train = pad_sequences(sequences_train)\n",
        "\n",
        "# Sequence length\n",
        "T = data_train.shape[1]\n",
        "\n",
        "# Prepare test data\n",
        "data_test = pad_sequences(sequences_test, maxlen=T)"
      ],
      "execution_count": 0,
      "outputs": []
    },
    {
      "cell_type": "code",
      "metadata": {
        "id": "Qy9Zx9jSiEiL",
        "colab_type": "code",
        "colab": {}
      },
      "source": [
        "# Create the model\n",
        "D = 20   # choose the embedding dimensionality - WHICH IS THE NUMBER OF FEATURES!\n",
        "M = 15   # hidden state dimensionality (number of units in hidden RNN node)\n",
        "\n",
        "# note embedding has size V+1 as when we did padding, for the residual words\n",
        "# .. not captured, they get put in this bucket.\n",
        "# LSTM RNN with Global Max Pooling\n",
        "i = Input(shape=(T,))\n",
        "x = Embedding(V+1, D)(i)  # creates a feature vector from an integer token\n",
        "x = LSTM(M, return_sequences=True)(x)\n",
        "x = GlobalMaxPooling1D()(x)\n",
        "x = Dense(1, activation='sigmoid')(x)\n",
        "\n",
        "model = Model(i, x)\n"
      ],
      "execution_count": 0,
      "outputs": []
    },
    {
      "cell_type": "code",
      "metadata": {
        "id": "17o2JyUsi6kS",
        "colab_type": "code",
        "outputId": "0e1c87f8-6bfe-416e-e3e2-996e3b5b069b",
        "colab": {
          "base_uri": "https://localhost:8080/",
          "height": 357
        }
      },
      "source": [
        "# Compile and Fit\n",
        "model.compile(loss='binary_crossentropy',\n",
        "              optimizer='adam',\n",
        "              metrics=['accuracy'])\n",
        "r = model.fit(data_train, Ytrain, epochs=10, validation_data=(data_test, Ytest))"
      ],
      "execution_count": 0,
      "outputs": [
        {
          "output_type": "stream",
          "text": [
            "Epoch 1/10\n",
            "117/117 [==============================] - 8s 66ms/step - loss: 0.4555 - accuracy: 0.8610 - val_loss: 0.3485 - val_accuracy: 0.8684\n",
            "Epoch 2/10\n",
            "117/117 [==============================] - 7s 62ms/step - loss: 0.3492 - accuracy: 0.8647 - val_loss: 0.3074 - val_accuracy: 0.8684\n",
            "Epoch 3/10\n",
            "117/117 [==============================] - 7s 62ms/step - loss: 0.2748 - accuracy: 0.8647 - val_loss: 0.2511 - val_accuracy: 0.8684\n",
            "Epoch 4/10\n",
            "117/117 [==============================] - 7s 63ms/step - loss: 0.2205 - accuracy: 0.8647 - val_loss: 0.2121 - val_accuracy: 0.8684\n",
            "Epoch 5/10\n",
            "117/117 [==============================] - 7s 62ms/step - loss: 0.1795 - accuracy: 0.9044 - val_loss: 0.1793 - val_accuracy: 0.9451\n",
            "Epoch 6/10\n",
            "117/117 [==============================] - 7s 63ms/step - loss: 0.1463 - accuracy: 0.9826 - val_loss: 0.1527 - val_accuracy: 0.9706\n",
            "Epoch 7/10\n",
            "117/117 [==============================] - 7s 63ms/step - loss: 0.1148 - accuracy: 0.9879 - val_loss: 0.1247 - val_accuracy: 0.9788\n",
            "Epoch 8/10\n",
            "117/117 [==============================] - 8s 66ms/step - loss: 0.0836 - accuracy: 0.9925 - val_loss: 0.0988 - val_accuracy: 0.9799\n",
            "Epoch 9/10\n",
            "117/117 [==============================] - 7s 63ms/step - loss: 0.0575 - accuracy: 0.9933 - val_loss: 0.0833 - val_accuracy: 0.9804\n",
            "Epoch 10/10\n",
            "117/117 [==============================] - 7s 63ms/step - loss: 0.0405 - accuracy: 0.9941 - val_loss: 0.0736 - val_accuracy: 0.9815\n"
          ],
          "name": "stdout"
        }
      ]
    },
    {
      "cell_type": "code",
      "metadata": {
        "id": "PjwGBRQnkMfH",
        "colab_type": "code",
        "outputId": "6265fd95-530b-4428-feca-c0c166a91928",
        "colab": {
          "base_uri": "https://localhost:8080/",
          "height": 285
        }
      },
      "source": [
        "# Plot the accuracy per iteration\n",
        "import matplotlib.pyplot as plt\n",
        "plt.plot(r.history['accuracy'], label='accuracy')\n",
        "plt.plot(r.history['val_accuracy'], label='val_accuracy')\n",
        "plt.legend()"
      ],
      "execution_count": 0,
      "outputs": [
        {
          "output_type": "execute_result",
          "data": {
            "text/plain": [
              "<matplotlib.legend.Legend at 0x7f5b73614940>"
            ]
          },
          "metadata": {
            "tags": []
          },
          "execution_count": 22
        },
        {
          "output_type": "display_data",
          "data": {
            "image/png": "[encoded data removed]",
            "text/plain": [
              "<Figure size 432x288 with 1 Axes>"
            ]
          },
          "metadata": {
            "tags": [],
            "needs_background": "light"
          }
        }
      ]
    }
  ]
}