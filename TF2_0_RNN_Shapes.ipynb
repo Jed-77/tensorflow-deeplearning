{
  "nbformat": 4,
  "nbformat_minor": 0,
  "metadata": {
    "colab": {
      "name": "TF2.0 RNN Shapes.ipynb",
      "provenance": [],
      "authorship_tag": "ABX9TyMbBMCQGvB0mIoQvaScDjQu",
      "include_colab_link": true
    },
    "kernelspec": {
      "name": "python3",
      "display_name": "Python 3"
    }
  },
  "cells": [
    {
      "cell_type": "markdown",
      "metadata": {
        "id": "view-in-github",
        "colab_type": "text"
      },
      "source": [
        "<a href=\"https://colab.research.google.com/github/Jed-77/tensorflow-deeplearning/blob/master/TF2_0_RNN_Shapes.ipynb\" target=\"_parent\"><img src=\"https://colab.research.google.com/assets/colab-badge.svg\" alt=\"Open In Colab\"/></a>"
      ]
    },
    {
      "cell_type": "code",
      "metadata": {
        "id": "ZT4FMofWbEdT",
        "colab_type": "code",
        "colab": {}
      },
      "source": [
        "# Imports\n",
        "import tensorflow as tf\n",
        "from tensorflow.keras.layers import Input, SimpleRNN, Flatten, Dense\n",
        "from tensorflow.keras.models import Model\n",
        "from tensorflow.keras.optimizers import SGD, Adam\n",
        "import numpy as np\n",
        "import matplotlib.pyplot as plt"
      ],
      "execution_count": 0,
      "outputs": []
    },
    {
      "cell_type": "code",
      "metadata": {
        "id": "o74QsqfvbKZ7",
        "colab_type": "code",
        "colab": {}
      },
      "source": [
        "# Things you should know!\n",
        "# N = number of samples (e.g. if we using windows of length 10, then its how many windows can fit into sequence)\n",
        "# T = sequence length (e.g. if we using windows of length 10 to predict next value, T=10)\n",
        "# D = number of input features (e.g. the number of functions/stocks etc we have data for)\n",
        "# M = number of hidden units\n",
        "# K = number of output units"
      ],
      "execution_count": 0,
      "outputs": []
    },
    {
      "cell_type": "code",
      "metadata": {
        "id": "gLxpnu0We8NF",
        "colab_type": "code",
        "outputId": "f74b7709-933c-4026-fe5e-5c04ad623acf",
        "colab": {
          "base_uri": "https://localhost:8080/",
          "height": 374
        }
      },
      "source": [
        "# Make some data\n",
        "N = 2\n",
        "T = 10\n",
        "D = 3\n",
        "K = 2\n",
        "X = np.random.randn(N, T, D)\n",
        "print(X)"
      ],
      "execution_count": 0,
      "outputs": [
        {
          "output_type": "stream",
          "text": [
            "[[[-0.77793668 -1.07274058 -1.28332961]\n",
            "  [-0.60240791 -0.58348462 -1.33258745]\n",
            "  [-0.26409752  0.61896939 -0.24345892]\n",
            "  [ 1.33617474 -0.8782038  -0.87178341]\n",
            "  [-1.36911427 -0.11213752 -0.83463443]\n",
            "  [-0.87771077 -1.31518936 -0.14279207]\n",
            "  [ 0.60548834 -0.50641906  0.11053444]\n",
            "  [ 0.59813107 -1.14695889 -1.67745537]\n",
            "  [-0.23479046  1.33625878 -0.07712646]\n",
            "  [-0.94593678 -1.88330775  0.68517081]]\n",
            "\n",
            " [[ 0.84228322  1.10270578  0.50337863]\n",
            "  [-0.96769632 -0.4457217  -0.27218136]\n",
            "  [-0.2626106  -2.1637526   0.96763933]\n",
            "  [-0.97246147  1.12598383  0.98963127]\n",
            "  [-0.40665527  1.22254771  0.12271403]\n",
            "  [ 0.59278986 -2.03277646 -0.00542645]\n",
            "  [ 1.26070947  1.76812368  0.12452051]\n",
            "  [ 0.40587855  0.92816074 -0.55172977]\n",
            "  [ 2.96032756 -1.57868623 -0.58505284]\n",
            "  [-2.08291318 -0.87404986 -1.24929438]]]\n"
          ],
          "name": "stdout"
        }
      ]
    },
    {
      "cell_type": "code",
      "metadata": {
        "id": "_XgFPpKDfaYk",
        "colab_type": "code",
        "colab": {}
      },
      "source": [
        "# Make an RNN\n",
        "M = 5\n",
        "i = Input(shape=(T, D))\n",
        "x = SimpleRNN(M)(i)\n",
        "x = Dense(K)(x)\n",
        "model = Model(i, x)"
      ],
      "execution_count": 0,
      "outputs": []
    },
    {
      "cell_type": "code",
      "metadata": {
        "id": "1Caw0dKzf-5a",
        "colab_type": "code",
        "outputId": "47cdd397-9f3a-4f38-e775-4beaa37a3aac",
        "colab": {
          "base_uri": "https://localhost:8080/",
          "height": 51
        }
      },
      "source": [
        "# Make a prediction\n",
        "Yhat = model.predict(X)\n",
        "Yhat"
      ],
      "execution_count": 0,
      "outputs": [
        {
          "output_type": "execute_result",
          "data": {
            "text/plain": [
              "array([[-1.3382235 , -0.5116218 ],\n",
              "       [-1.9449204 , -0.28821778]], dtype=float32)"
            ]
          },
          "metadata": {
            "tags": []
          },
          "execution_count": 49
        }
      ]
    },
    {
      "cell_type": "code",
      "metadata": {
        "id": "k52zI8gKgiDv",
        "colab_type": "code",
        "outputId": "f5209eaa-5cfc-4130-ce95-0c2bddee0833",
        "colab": {
          "base_uri": "https://localhost:8080/",
          "height": 255
        }
      },
      "source": [
        "# Model summary\n",
        "model.summary()"
      ],
      "execution_count": 0,
      "outputs": [
        {
          "output_type": "stream",
          "text": [
            "Model: \"model_4\"\n",
            "_________________________________________________________________\n",
            "Layer (type)                 Output Shape              Param #   \n",
            "=================================================================\n",
            "input_5 (InputLayer)         [(None, 10, 3)]           0         \n",
            "_________________________________________________________________\n",
            "simple_rnn_4 (SimpleRNN)     (None, 5)                 45        \n",
            "_________________________________________________________________\n",
            "dense_4 (Dense)              (None, 2)                 12        \n",
            "=================================================================\n",
            "Total params: 57\n",
            "Trainable params: 57\n",
            "Non-trainable params: 0\n",
            "_________________________________________________________________\n"
          ],
          "name": "stdout"
        }
      ]
    },
    {
      "cell_type": "code",
      "metadata": {
        "id": "En4PQMb_gnW7",
        "colab_type": "code",
        "outputId": "429870fe-31c2-471e-9ebb-5d79d445993c",
        "colab": {
          "base_uri": "https://localhost:8080/",
          "height": 204
        }
      },
      "source": [
        "# Get the weights\n",
        "model.layers[1].get_weights()"
      ],
      "execution_count": 0,
      "outputs": [
        {
          "output_type": "execute_result",
          "data": {
            "text/plain": [
              "[array([[-0.07464129, -0.24965143,  0.429192  , -0.22778082, -0.8423667 ],\n",
              "        [-0.25631195, -0.40106767,  0.2588299 , -0.698128  , -0.8103905 ],\n",
              "        [-0.7223803 , -0.7482208 ,  0.6736869 , -0.7189992 , -0.48838496]],\n",
              "       dtype=float32),\n",
              " array([[ 0.30003   , -0.3827919 , -0.6921318 ,  0.05085356, -0.530867  ],\n",
              "        [ 0.1766843 , -0.524882  ,  0.30694216, -0.77398443,  0.00400643],\n",
              "        [-0.6218559 , -0.39580104,  0.35819134,  0.26588002, -0.50758594],\n",
              "        [-0.65360725, -0.1836087 , -0.53750956, -0.23556776,  0.44122177],\n",
              "        [-0.2546712 ,  0.62257415, -0.09758354, -0.52170634, -0.51560056]],\n",
              "       dtype=float32),\n",
              " array([0., 0., 0., 0., 0.], dtype=float32)]"
            ]
          },
          "metadata": {
            "tags": []
          },
          "execution_count": 43
        }
      ]
    },
    {
      "cell_type": "code",
      "metadata": {
        "id": "VIRd3uKkgr6q",
        "colab_type": "code",
        "outputId": "873f8e46-61bc-48aa-8103-b2295cbe7538",
        "colab": {
          "base_uri": "https://localhost:8080/",
          "height": 34
        }
      },
      "source": [
        "# Check the shapes of the weights\n",
        "# so a is the weights connecting input to hidden\n",
        "# b is the hidden to hidden weights\n",
        "# c is bias vector\n",
        "a, b, c = model.layers[1].get_weights()\n",
        "print(a.shape, b.shape, c.shape)"
      ],
      "execution_count": 0,
      "outputs": [
        {
          "output_type": "stream",
          "text": [
            "(3, 5) (5, 5) (5,)\n"
          ],
          "name": "stdout"
        }
      ]
    },
    {
      "cell_type": "code",
      "metadata": {
        "id": "JJJI5CPThMiV",
        "colab_type": "code",
        "outputId": "92fb2913-69aa-4987-ab0c-50ba93685e34",
        "colab": {
          "base_uri": "https://localhost:8080/",
          "height": 34
        }
      },
      "source": [
        "# So we can get weights and biases\n",
        "Wx, Wh, bh = model.layers[1].get_weights()\n",
        "Wo, bo = model.layers[2].get_weights()\n",
        "print(Wo.shape, bo.shape)"
      ],
      "execution_count": 0,
      "outputs": [
        {
          "output_type": "stream",
          "text": [
            "(5, 2) (2,)\n"
          ],
          "name": "stdout"
        }
      ]
    },
    {
      "cell_type": "code",
      "metadata": {
        "id": "aqJlBq_PhaNb",
        "colab_type": "code",
        "outputId": "2508c694-3439-4847-f942-8553aad82e29",
        "colab": {
          "base_uri": "https://localhost:8080/",
          "height": 51
        }
      },
      "source": [
        "# lets do a manual RNN layer!\n",
        "for i in range(N):\n",
        "  h_last = np.zeros(M)\n",
        "  x = X[i]\n",
        "  Yhats = []\n",
        "\n",
        "  # for each timestep t, \n",
        "  for t in range(T):\n",
        "    h = np.tanh(x[t].dot(Wx) + h_last.dot(Wh) + bh)\n",
        "    y = h.dot(Wo) + bo\n",
        "    Yhats.append(y)\n",
        "    h_last=h\n",
        "\n",
        "  print(Yhats[-1])"
      ],
      "execution_count": 0,
      "outputs": [
        {
          "output_type": "stream",
          "text": [
            "[-1.3382235  -0.51162178]\n",
            "[-1.94492055 -0.28821775]\n"
          ],
          "name": "stdout"
        }
      ]
    }
  ]
}