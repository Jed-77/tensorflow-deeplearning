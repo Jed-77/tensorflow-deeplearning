{
  "nbformat": 4,
  "nbformat_minor": 0,
  "metadata": {
    "colab": {
      "name": "TF2.0 Fashion MNIST.ipynb",
      "provenance": [],
      "collapsed_sections": [],
      "authorship_tag": "ABX9TyNwOnjt5WFx+MainHJRivXP",
      "include_colab_link": true
    },
    "kernelspec": {
      "name": "python3",
      "display_name": "Python 3"
    }
  },
  "cells": [
    {
      "cell_type": "markdown",
      "metadata": {
        "id": "view-in-github",
        "colab_type": "text"
      },
      "source": [
        "<a href=\"https://colab.research.google.com/github/Jed-77/tensorflow-deeplearning/blob/master/TF2_0_Fashion_MNIST.ipynb\" target=\"_parent\"><img src=\"https://colab.research.google.com/assets/colab-badge.svg\" alt=\"Open In Colab\"/></a>"
      ]
    },
    {
      "cell_type": "markdown",
      "metadata": {
        "id": "gfVE272TX4Hi",
        "colab_type": "text"
      },
      "source": [
        "Convolutional Neural Network to recognize clothing from the Fashion MNIST dataset. It is also an introduction to using the functional API for building keras models. Enjoy!"
      ]
    },
    {
      "cell_type": "code",
      "metadata": {
        "id": "QAYjWIiKPjJx",
        "colab_type": "code",
        "colab": {}
      },
      "source": [
        "# Imports\n",
        "import tensorflow as tf\n",
        "import numpy as np\n",
        "import matplotlib.pyplot as plt\n",
        "from tensorflow.keras.layers import Input, Conv2D, Dense, Flatten, Dropout\n",
        "from tensorflow.keras.models import Model"
      ],
      "execution_count": 0,
      "outputs": []
    },
    {
      "cell_type": "code",
      "metadata": {
        "id": "e7L6scI4QCMb",
        "colab_type": "code",
        "colab": {}
      },
      "source": [
        "# Hyper-parameters\n",
        "IMAGE_SCALE = 255.0"
      ],
      "execution_count": 0,
      "outputs": []
    },
    {
      "cell_type": "code",
      "metadata": {
        "id": "zd_fzYxeP6Hb",
        "colab_type": "code",
        "outputId": "dc14dc71-a580-4230-e89e-092f3aa82622",
        "colab": {
          "base_uri": "https://localhost:8080/",
          "height": 191
        }
      },
      "source": [
        "# Load in the data. \n",
        "# Also we will normalise the values from 0->255 to 0->1\n",
        "f_mnist = tf.keras.datasets.fashion_mnist\n",
        "(x_train, y_train), (x_test, y_test) = f_mnist.load_data()\n",
        "x_train, x_test = x_train/IMAGE_SCALE, x_test/IMAGE_SCALE\n",
        "print(\"x_train shape: \", x_train.shape)\n",
        "n_train, image_size_x, image_size_y = x_train.shape\n",
        "print(\"y_train shape: \", y_train.shape)"
      ],
      "execution_count": 0,
      "outputs": [
        {
          "output_type": "stream",
          "text": [
            "Downloading data from https://storage.googleapis.com/tensorflow/tf-keras-datasets/train-labels-idx1-ubyte.gz\n",
            "32768/29515 [=================================] - 0s 0us/step\n",
            "Downloading data from https://storage.googleapis.com/tensorflow/tf-keras-datasets/train-images-idx3-ubyte.gz\n",
            "26427392/26421880 [==============================] - 0s 0us/step\n",
            "Downloading data from https://storage.googleapis.com/tensorflow/tf-keras-datasets/t10k-labels-idx1-ubyte.gz\n",
            "8192/5148 [===============================================] - 0s 0us/step\n",
            "Downloading data from https://storage.googleapis.com/tensorflow/tf-keras-datasets/t10k-images-idx3-ubyte.gz\n",
            "4423680/4422102 [==============================] - 0s 0us/step\n",
            "x_train shape:  (60000, 28, 28)\n",
            "y_train shape:  (60000,)\n"
          ],
          "name": "stdout"
        }
      ]
    },
    {
      "cell_type": "code",
      "metadata": {
        "id": "inng8GUvQNrm",
        "colab_type": "code",
        "outputId": "9a588efc-ff0f-4362-a90e-95c107cb03d5",
        "colab": {
          "base_uri": "https://localhost:8080/",
          "height": 35
        }
      },
      "source": [
        "# Data is only 2D - but convolution expects height x width x colour\n",
        "x_train = np.expand_dims(x_train, -1)\n",
        "x_test = np.expand_dims(x_test, -1)\n",
        "print(x_train.shape)"
      ],
      "execution_count": 0,
      "outputs": [
        {
          "output_type": "stream",
          "text": [
            "(60000, 28, 28, 1)\n"
          ],
          "name": "stdout"
        }
      ]
    },
    {
      "cell_type": "code",
      "metadata": {
        "id": "coorepsvQmsq",
        "colab_type": "code",
        "outputId": "dfb05a4f-8738-4932-c819-91e4ffc18771",
        "colab": {
          "base_uri": "https://localhost:8080/",
          "height": 35
        }
      },
      "source": [
        "# Number of classes (e.g. trousers, shoes etc...)\n",
        "K = len(set(y_train))\n",
        "print(\"Number of Classes: \", K)"
      ],
      "execution_count": 0,
      "outputs": [
        {
          "output_type": "stream",
          "text": [
            "Number of Classes:  10\n"
          ],
          "name": "stdout"
        }
      ]
    },
    {
      "cell_type": "code",
      "metadata": {
        "id": "y220LtprQyXh",
        "colab_type": "code",
        "colab": {}
      },
      "source": [
        "# Build the model using the functional API\n",
        "i = Input(shape=x_train[0].shape)\n",
        "x = Conv2D(32, (3,3), strides=2, activation='relu')(i)\n",
        "x = Conv2D(64, (3,3), strides=2, activation='relu')(x)\n",
        "x = Conv2D(128, (3,3), strides=2, activation='relu')(x)\n",
        "x = Flatten()(x)\n",
        "x = Dropout(0.2)(x)\n",
        "x = Dense(512, activation='relu')(x)\n",
        "x = Dropout(0.2)(x)\n",
        "x = Dense(K, activation='softmax')(x)\n",
        "\n",
        "model = Model(i, x)"
      ],
      "execution_count": 0,
      "outputs": []
    },
    {
      "cell_type": "code",
      "metadata": {
        "id": "bCasUJTAS-Ck",
        "colab_type": "code",
        "outputId": "8663e988-b75a-42cc-b6b0-578c66323426",
        "colab": {
          "base_uri": "https://localhost:8080/",
          "height": 459
        }
      },
      "source": [
        "# Look at some diagrams of the model\n",
        "model.summary()"
      ],
      "execution_count": 0,
      "outputs": [
        {
          "output_type": "stream",
          "text": [
            "Model: \"model\"\n",
            "_________________________________________________________________\n",
            "Layer (type)                 Output Shape              Param #   \n",
            "=================================================================\n",
            "input_1 (InputLayer)         [(None, 28, 28, 1)]       0         \n",
            "_________________________________________________________________\n",
            "conv2d (Conv2D)              (None, 13, 13, 32)        320       \n",
            "_________________________________________________________________\n",
            "conv2d_1 (Conv2D)            (None, 6, 6, 64)          18496     \n",
            "_________________________________________________________________\n",
            "conv2d_2 (Conv2D)            (None, 2, 2, 128)         73856     \n",
            "_________________________________________________________________\n",
            "flatten (Flatten)            (None, 512)               0         \n",
            "_________________________________________________________________\n",
            "dropout (Dropout)            (None, 512)               0         \n",
            "_________________________________________________________________\n",
            "dense (Dense)                (None, 512)               262656    \n",
            "_________________________________________________________________\n",
            "dropout_1 (Dropout)          (None, 512)               0         \n",
            "_________________________________________________________________\n",
            "dense_1 (Dense)              (None, 10)                5130      \n",
            "=================================================================\n",
            "Total params: 360,458\n",
            "Trainable params: 360,458\n",
            "Non-trainable params: 0\n",
            "_________________________________________________________________\n"
          ],
          "name": "stdout"
        }
      ]
    },
    {
      "cell_type": "code",
      "metadata": {
        "id": "RUbVlOVURj2F",
        "colab_type": "code",
        "outputId": "5084c13d-6c6a-4cf1-de0b-98ed4d4e2277",
        "colab": {
          "base_uri": "https://localhost:8080/",
          "height": 537
        }
      },
      "source": [
        "# Compile the model and fit (use the GPU!)\n",
        "model.compile(optimizer='adam',\n",
        "              loss='sparse_categorical_crossentropy',\n",
        "              metrics=['accuracy'])\n",
        "r = model.fit(x_train, y_train, validation_data=(x_test, y_test), epochs=15)"
      ],
      "execution_count": 0,
      "outputs": [
        {
          "output_type": "stream",
          "text": [
            "Epoch 1/15\n",
            "1875/1875 [==============================] - 26s 14ms/step - loss: 0.5282 - accuracy: 0.8041 - val_loss: 0.4169 - val_accuracy: 0.8439\n",
            "Epoch 2/15\n",
            "1875/1875 [==============================] - 26s 14ms/step - loss: 0.3714 - accuracy: 0.8607 - val_loss: 0.3488 - val_accuracy: 0.8738\n",
            "Epoch 3/15\n",
            "1875/1875 [==============================] - 26s 14ms/step - loss: 0.3197 - accuracy: 0.8790 - val_loss: 0.3281 - val_accuracy: 0.8790\n",
            "Epoch 4/15\n",
            "1875/1875 [==============================] - 27s 14ms/step - loss: 0.2849 - accuracy: 0.8931 - val_loss: 0.3029 - val_accuracy: 0.8866\n",
            "Epoch 5/15\n",
            "1875/1875 [==============================] - 26s 14ms/step - loss: 0.2588 - accuracy: 0.9021 - val_loss: 0.3043 - val_accuracy: 0.8902\n",
            "Epoch 6/15\n",
            "1875/1875 [==============================] - 26s 14ms/step - loss: 0.2360 - accuracy: 0.9098 - val_loss: 0.3000 - val_accuracy: 0.8921\n",
            "Epoch 7/15\n",
            "1875/1875 [==============================] - 26s 14ms/step - loss: 0.2208 - accuracy: 0.9161 - val_loss: 0.2899 - val_accuracy: 0.8958\n",
            "Epoch 8/15\n",
            "1875/1875 [==============================] - 26s 14ms/step - loss: 0.2009 - accuracy: 0.9230 - val_loss: 0.3083 - val_accuracy: 0.8922\n",
            "Epoch 9/15\n",
            "1875/1875 [==============================] - 27s 14ms/step - loss: 0.1890 - accuracy: 0.9276 - val_loss: 0.2947 - val_accuracy: 0.9025\n",
            "Epoch 10/15\n",
            "1875/1875 [==============================] - 27s 14ms/step - loss: 0.1746 - accuracy: 0.9330 - val_loss: 0.3205 - val_accuracy: 0.8894\n",
            "Epoch 11/15\n",
            "1875/1875 [==============================] - 26s 14ms/step - loss: 0.1642 - accuracy: 0.9360 - val_loss: 0.3091 - val_accuracy: 0.8972\n",
            "Epoch 12/15\n",
            "1875/1875 [==============================] - 27s 14ms/step - loss: 0.1545 - accuracy: 0.9405 - val_loss: 0.3224 - val_accuracy: 0.9010\n",
            "Epoch 13/15\n",
            "1875/1875 [==============================] - 26s 14ms/step - loss: 0.1462 - accuracy: 0.9438 - val_loss: 0.3240 - val_accuracy: 0.8966\n",
            "Epoch 14/15\n",
            "1875/1875 [==============================] - 26s 14ms/step - loss: 0.1382 - accuracy: 0.9477 - val_loss: 0.3242 - val_accuracy: 0.9034\n",
            "Epoch 15/15\n",
            "1875/1875 [==============================] - 26s 14ms/step - loss: 0.1332 - accuracy: 0.9495 - val_loss: 0.3529 - val_accuracy: 0.8968\n"
          ],
          "name": "stdout"
        }
      ]
    },
    {
      "cell_type": "code",
      "metadata": {
        "id": "Z7DE71NLR88N",
        "colab_type": "code",
        "outputId": "52367f2d-1c31-4fb5-d85b-5e12cecf640b",
        "colab": {
          "base_uri": "https://localhost:8080/",
          "height": 282
        }
      },
      "source": [
        "# Plot the loss\n",
        "from matplotlib import style\n",
        "style.use('dark_background')\n",
        "plt.plot(r.history['loss'], label='loss')\n",
        "plt.plot(r.history['val_loss'], label='val_loss')\n",
        "plt.legend()"
      ],
      "execution_count": 0,
      "outputs": [
        {
          "output_type": "execute_result",
          "data": {
            "text/plain": [
              "<matplotlib.legend.Legend at 0x7fe865813128>"
            ]
          },
          "metadata": {
            "tags": []
          },
          "execution_count": 14
        },
        {
          "output_type": "display_data",
          "data": {
            "image/png": "[encoded data removed]",
            "text/plain": [
              "<Figure size 432x288 with 1 Axes>"
            ]
          },
          "metadata": {
            "tags": []
          }
        }
      ]
    },
    {
      "cell_type": "code",
      "metadata": {
        "id": "VYVOP_1lSFek",
        "colab_type": "code",
        "outputId": "54699e05-5527-4f89-b45e-c038cde93c31",
        "colab": {
          "base_uri": "https://localhost:8080/",
          "height": 282
        }
      },
      "source": [
        "# Plot the accuracy per iteration\n",
        "plt.plot(r.history['accuracy'], label='accuracy')\n",
        "plt.plot(r.history['val_accuracy'], label='val_accuracy')\n",
        "plt.legend()"
      ],
      "execution_count": 0,
      "outputs": [
        {
          "output_type": "execute_result",
          "data": {
            "text/plain": [
              "<matplotlib.legend.Legend at 0x7fe8670c0c88>"
            ]
          },
          "metadata": {
            "tags": []
          },
          "execution_count": 15
        },
        {
          "output_type": "display_data",
          "data": {
            "image/png": "[encoded data removed]",
            "text/plain": [
              "<Figure size 432x288 with 1 Axes>"
            ]
          },
          "metadata": {
            "tags": []
          }
        }
      ]
    },
    {
      "cell_type": "code",
      "metadata": {
        "id": "ld07fkvDSUgT",
        "colab_type": "code",
        "outputId": "20c95e2a-20bb-4368-a22c-7a300cccdb6a",
        "colab": {
          "base_uri": "https://localhost:8080/",
          "height": 502
        }
      },
      "source": [
        "# Plot a confusion matrix\n",
        "from sklearn.metrics import confusion_matrix\n",
        "import numpy as np\n",
        "import itertools\n",
        "\n",
        "def plot_confusion_matrix(cm, classes,\n",
        "                          normalise=False,\n",
        "                          title='Confusion Matrix',\n",
        "                          cmap=plt.cm.Blues):\n",
        "  \"\"\"\n",
        "  This function prints and plots the confusion matrix.\n",
        "  \"\"\"\n",
        "  if normalise:\n",
        "    cm = cm.astype('float') / cm.sum(axis=1)[:, np.newaxis]\n",
        "    print(\"Normalised Confusion Matrix.\")\n",
        "  else:\n",
        "    print(\"Non-normalised Confusion Matrix\")\n",
        "  print(cm)\n",
        "\n",
        "  plt.imshow(cm, interpolation='nearest', cmap=cmap)\n",
        "  plt.title(title)\n",
        "  plt.colorbar()\n",
        "  tick_marks = np.arange(len(classes))\n",
        "  plt.xticks(tick_marks, classes, rotation=45)\n",
        "  plt.yticks(tick_marks, classes)\n",
        "\n",
        "  fmt='.2f' if normalise else 'd'\n",
        "  thresh = cm.max()/2.\n",
        "  for i, j in itertools.product(range(cm.shape[0]), range(cm.shape[1])):\n",
        "    plt.text(j, i, format(cm[i, j], fmt),\n",
        "             horizontalalignment=\"center\",\n",
        "             color=\"white\" if cm[i, j] > thresh else \"black\"\n",
        "             )\n",
        "  plt.tight_layout()\n",
        "  plt.ylabel('True Label')\n",
        "  plt.xlabel('Predicted Label')\n",
        "  plt.show()\n",
        "\n",
        "\n",
        "# run this\n",
        "p_test = model.predict(x_test).argmax(axis=1)\n",
        "cm = confusion_matrix(y_test, p_test)\n",
        "plot_confusion_matrix(cm, list(range(10)))"
      ],
      "execution_count": 0,
      "outputs": [
        {
          "output_type": "stream",
          "text": [
            "Non-normalised Confusion Matrix\n",
            "[[855   1  25  19   6   1  81   0  12   0]\n",
            " [  1 978   1   9   5   0   4   0   2   0]\n",
            " [ 13   0 857   9  72   0  47   0   2   0]\n",
            " [ 20   5  16 874  46   1  34   0   4   0]\n",
            " [  0   1  53  11 882   1  47   0   5   0]\n",
            " [  0   0   0   0   0 971   1  17   1  10]\n",
            " [108   0  70  23 124   1 665   0   9   0]\n",
            " [  0   0   0   0   0  12   0 980   0   8]\n",
            " [  2   0   4   1   4   4   8   3 972   2]\n",
            " [  1   0   0   0   0   9   0  54   2 934]]\n"
          ],
          "name": "stdout"
        },
        {
          "output_type": "display_data",
          "data": {
            "image/png": "[encoded data removed]",
            "text/plain": [
              "<Figure size 432x288 with 2 Axes>"
            ]
          },
          "metadata": {
            "tags": [],
            "needs_background": "light"
          }
        }
      ]
    },
    {
      "cell_type": "code",
      "metadata": {
        "id": "QLmNdc8GU7H2",
        "colab_type": "code",
        "colab": {}
      },
      "source": [
        "# Labels\n",
        "labels = '''T-shirt\n",
        "Trouser\n",
        "Pullover\n",
        "Dress\n",
        "Coat\n",
        "Sandal\n",
        "Shirt\n",
        "Sneaker\n",
        "Bag\n",
        "Ankleboot'''.split()"
      ],
      "execution_count": 0,
      "outputs": []
    },
    {
      "cell_type": "code",
      "metadata": {
        "id": "s1etvf6FVNel",
        "colab_type": "code",
        "outputId": "82ea5890-6833-45d0-a328-507303c51569",
        "colab": {
          "base_uri": "https://localhost:8080/",
          "height": 299
        }
      },
      "source": [
        "# Show some of the misclassified examples\n",
        "misclassified_idx = np.where(p_test != y_test)[0]\n",
        "i = np.random.choice(misclassified_idx)\n",
        "plt.imshow(x_test[i].reshape(28,28), cmap='gray')\n",
        "plt.title(\"True: {}, Predicted: {}\".format(labels[y_test[i]], labels[p_test[i]]))"
      ],
      "execution_count": 0,
      "outputs": [
        {
          "output_type": "execute_result",
          "data": {
            "text/plain": [
              "Text(0.5, 1.0, 'True: Coat, Predicted: Shirt')"
            ]
          },
          "metadata": {
            "tags": []
          },
          "execution_count": 22
        },
        {
          "output_type": "display_data",
          "data": {
            "image/png": "[encoded data removed]",
            "text/plain": [
              "<Figure size 432x288 with 1 Axes>"
            ]
          },
          "metadata": {
            "tags": [],
            "needs_background": "light"
          }
        }
      ]
    },
    {
      "cell_type": "code",
      "metadata": {
        "id": "gbr2inzTWO69",
        "colab_type": "code",
        "outputId": "b0a7d9f8-0a81-4791-82b0-a1f4535614f4",
        "colab": {
          "base_uri": "https://localhost:8080/",
          "height": 51
        }
      },
      "source": [
        "# delete this\n",
        "class Practise:\n",
        "  def __init__(self):\n",
        "    self.a=0\n",
        "  def __call__(self):\n",
        "    print(\"CALLED\")\n",
        "\n",
        "a = Practise()\n",
        "print(a.a)\n",
        "a()"
      ],
      "execution_count": 0,
      "outputs": [
        {
          "output_type": "stream",
          "text": [
            "0\n",
            "CALLED\n"
          ],
          "name": "stdout"
        }
      ]
    }
  ]
}