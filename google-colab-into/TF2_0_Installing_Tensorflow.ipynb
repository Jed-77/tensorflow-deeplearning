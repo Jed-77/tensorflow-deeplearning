{
  "nbformat": 4,
  "nbformat_minor": 0,
  "metadata": {
    "colab": {
      "name": "TF2.0 Installing Tensorflow.ipynb",
      "provenance": [],
      "collapsed_sections": [],
      "authorship_tag": "ABX9TyO3pVQlRkVohW5pjQWdOop/",
      "include_colab_link": true
    },
    "kernelspec": {
      "name": "python3",
      "display_name": "Python 3"
    }
  },
  "cells": [
    {
      "cell_type": "markdown",
      "metadata": {
        "id": "view-in-github",
        "colab_type": "text"
      },
      "source": [
        "<a href=\"https://colab.research.google.com/github/Jed-77/tensorflow-deeplearning/blob/master/google-colab-into/TF2_0_Installing_Tensorflow.ipynb\" target=\"_parent\"><img src=\"https://colab.research.google.com/assets/colab-badge.svg\" alt=\"Open In Colab\"/></a>"
      ]
    },
    {
      "cell_type": "code",
      "metadata": {
        "id": "cP68kVGLUCQ7",
        "colab_type": "code",
        "outputId": "3403b389-8c25-4a99-d649-4ddadff3686b",
        "colab": {
          "base_uri": "https://localhost:8080/",
          "height": 34
        }
      },
      "source": [
        "# Let's see what is already installed?\n",
        "import tensorflow as tf\n",
        "print(tf.__version__)"
      ],
      "execution_count": 0,
      "outputs": [
        {
          "output_type": "stream",
          "text": [
            "2.2.0-rc4\n"
          ],
          "name": "stdout"
        }
      ]
    },
    {
      "cell_type": "code",
      "metadata": {
        "id": "dhpqj-APUgfq",
        "colab_type": "code",
        "colab": {}
      },
      "source": [
        "# If i needed to install tensorflow of a different version, you can run regular shell commands by prepending !\n",
        "# e.g. !pip install -q tensorflow==2.0.0-beta1\n",
        "# or GPU version -> !pip install -q tensorflow-gpu==2.0.0-beta1\n",
        "# check the previous version available"
      ],
      "execution_count": 0,
      "outputs": []
    },
    {
      "cell_type": "code",
      "metadata": {
        "id": "TeuayhGjXS9l",
        "colab_type": "code",
        "outputId": "3a849405-5dc3-47bd-96b1-b7c0a9b7faa9",
        "colab": {
          "base_uri": "https://localhost:8080/",
          "height": 34
        }
      },
      "source": [
        "# More functionality with !\n",
        "# it is essentially the equivalent of running in the terminal.\n",
        "# So let's get files in the directory. \n",
        "!ls"
      ],
      "execution_count": 0,
      "outputs": [
        {
          "output_type": "stream",
          "text": [
            "sample_data\n"
          ],
          "name": "stdout"
        }
      ]
    },
    {
      "cell_type": "code",
      "metadata": {
        "id": "Wu7PNsHeX2dQ",
        "colab_type": "code",
        "outputId": "bd329748-9093-4cc8-b796-dc35abf81701",
        "colab": {
          "base_uri": "https://localhost:8080/",
          "height": 68
        }
      },
      "source": [
        "# we can actually look within the folder using !.\n",
        "# looks like we have some useful data to work with\n",
        "# HOUSING AND MNIST.... WOO! (or should i say !WOO)\n",
        "!ls sample_data"
      ],
      "execution_count": 0,
      "outputs": [
        {
          "output_type": "stream",
          "text": [
            "anscombe.json\t\t      mnist_test.csv\n",
            "california_housing_test.csv   mnist_train_small.csv\n",
            "california_housing_train.csv  README.md\n"
          ],
          "name": "stdout"
        }
      ]
    }
  ]
}